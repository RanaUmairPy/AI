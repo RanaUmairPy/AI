{
 "cells": [
  {
   "cell_type": "code",
   "execution_count": 1,
   "id": "d1c1c2d4-da22-4567-8877-8125fe5326f4",
   "metadata": {},
   "outputs": [],
   "source": [
    "import pandas as pd"
   ]
  },
  {
   "cell_type": "code",
   "execution_count": 2,
   "id": "a6c29001-3089-4d24-9e15-98acec33423b",
   "metadata": {},
   "outputs": [],
   "source": [
    "df = pd.read_csv('seattle-weather.csv')"
   ]
  },
  {
   "cell_type": "code",
   "execution_count": 3,
   "id": "2be4e424-638a-43d8-84de-68b55740391c",
   "metadata": {},
   "outputs": [],
   "source": [
    "x = df[['wind','precipitation','temp_max','temp_min']]"
   ]
  },
  {
   "cell_type": "code",
   "execution_count": 4,
   "id": "ce295851-a973-4085-a880-01e622cb3f67",
   "metadata": {},
   "outputs": [
    {
     "data": {
      "text/plain": [
       "wind              9.5\n",
       "precipitation    55.9\n",
       "temp_max         35.6\n",
       "temp_min         18.3\n",
       "dtype: float64"
      ]
     },
     "execution_count": 4,
     "metadata": {},
     "output_type": "execute_result"
    }
   ],
   "source": [
    "x.min()\n",
    "x.max()"
   ]
  },
  {
   "cell_type": "code",
   "execution_count": null,
   "id": "01bc3cef-82cb-470d-a31d-a54040634bc6",
   "metadata": {},
   "outputs": [],
   "source": []
  },
  {
   "cell_type": "code",
   "execution_count": null,
   "id": "ff83a3ce-aa19-4f0e-8fd8-2d569c6c9cb1",
   "metadata": {},
   "outputs": [],
   "source": []
  },
  {
   "cell_type": "code",
   "execution_count": 5,
   "id": "deda3999-b05e-4264-80ee-90d1b9e4c7d2",
   "metadata": {},
   "outputs": [],
   "source": [
    "df_normalized = (x - x.min()) / (x.max() - x.min())\n",
    "df1 = pd.DataFrame(df_normalized)\n"
   ]
  },
  {
   "cell_type": "code",
   "execution_count": 6,
   "id": "0589640f-41de-4525-878c-72f4738d6793",
   "metadata": {},
   "outputs": [],
   "source": [
    "d = df['weather']\n"
   ]
  },
  {
   "cell_type": "code",
   "execution_count": 7,
   "id": "2a8ce094-3ef7-42ff-abd6-07be4fce128a",
   "metadata": {},
   "outputs": [],
   "source": [
    "#solution1\n",
    "b = len(df['weather'])\n",
    "a = []\n",
    "\n",
    "for i in range(b):\n",
    "    \n",
    "    y=d.iloc[i]\n",
    "    if y=='drizzle':\n",
    "        a.append(0)\n",
    "    elif y=='rain':\n",
    "        a.append(1)\n",
    "    elif y=='sun':\n",
    "        a.append(2)\n",
    "    elif y=='snow':\n",
    "        a.append(3)\n",
    "    else:\n",
    "        a.append(4)\n"
   ]
  },
  {
   "cell_type": "code",
   "execution_count": 8,
   "id": "1d5ac016-74d1-45af-a85e-ac66bb6b210f",
   "metadata": {},
   "outputs": [
    {
     "data": {
      "text/plain": [
       "['drizzle', 'rain', 'sun', 'snow', 'fog']"
      ]
     },
     "execution_count": 8,
     "metadata": {},
     "output_type": "execute_result"
    }
   ],
   "source": [
    "#solution 2\n",
    "c = []\n",
    "x = []\n",
    "for i in range(b):\n",
    "    if d.iloc[i] not in c:\n",
    "        c.append(d.iloc[i])\n",
    "    if d.iloc[i] in c:\n",
    "        index = c.index(d.iloc[i])\n",
    "        x.append(index)\n",
    "        \n",
    "c"
   ]
  },
  {
   "cell_type": "code",
   "execution_count": 16,
   "id": "604e533c-0124-4947-b78b-b822239de49c",
   "metadata": {},
   "outputs": [
    {
     "name": "stdout",
     "output_type": "stream",
     "text": [
      "0       0\n",
      "1       1\n",
      "2       1\n",
      "3       1\n",
      "4       1\n",
      "       ..\n",
      "1456    1\n",
      "1457    1\n",
      "1458    4\n",
      "1459    2\n",
      "1460    2\n",
      "Name: weather2, Length: 1461, dtype: int64\n"
     ]
    }
   ],
   "source": [
    "#solution 3\n",
    "df['weather2'],unique_lables = pd.factorize(df['weather'])\n",
    "x3 = df['weather2']\n",
    "print(x3)\n"
   ]
  },
  {
   "cell_type": "code",
   "execution_count": 9,
   "id": "c8be8aa9-0ed9-4a8f-9c77-ffa315020a9b",
   "metadata": {},
   "outputs": [],
   "source": [
    "\n",
    "df = pd.DataFrame(x,columns=['weather'])\n"
   ]
  },
  {
   "cell_type": "code",
   "execution_count": 10,
   "id": "3c6bbd39-002b-44e1-b9d9-fa010bc46573",
   "metadata": {},
   "outputs": [
    {
     "data": {
      "text/html": [
       "<div>\n",
       "<style scoped>\n",
       "    .dataframe tbody tr th:only-of-type {\n",
       "        vertical-align: middle;\n",
       "    }\n",
       "\n",
       "    .dataframe tbody tr th {\n",
       "        vertical-align: top;\n",
       "    }\n",
       "\n",
       "    .dataframe thead th {\n",
       "        text-align: right;\n",
       "    }\n",
       "</style>\n",
       "<table border=\"1\" class=\"dataframe\">\n",
       "  <thead>\n",
       "    <tr style=\"text-align: right;\">\n",
       "      <th></th>\n",
       "      <th>wind</th>\n",
       "      <th>precipitation</th>\n",
       "      <th>temp_max</th>\n",
       "      <th>temp_min</th>\n",
       "      <th>weather</th>\n",
       "    </tr>\n",
       "  </thead>\n",
       "  <tbody>\n",
       "    <tr>\n",
       "      <th>0</th>\n",
       "      <td>0.472527</td>\n",
       "      <td>0.000000</td>\n",
       "      <td>0.387097</td>\n",
       "      <td>0.476378</td>\n",
       "      <td>0</td>\n",
       "    </tr>\n",
       "    <tr>\n",
       "      <th>1</th>\n",
       "      <td>0.450549</td>\n",
       "      <td>0.194991</td>\n",
       "      <td>0.327957</td>\n",
       "      <td>0.389764</td>\n",
       "      <td>1</td>\n",
       "    </tr>\n",
       "    <tr>\n",
       "      <th>2</th>\n",
       "      <td>0.208791</td>\n",
       "      <td>0.014311</td>\n",
       "      <td>0.357527</td>\n",
       "      <td>0.562992</td>\n",
       "      <td>1</td>\n",
       "    </tr>\n",
       "    <tr>\n",
       "      <th>3</th>\n",
       "      <td>0.472527</td>\n",
       "      <td>0.363148</td>\n",
       "      <td>0.370968</td>\n",
       "      <td>0.500000</td>\n",
       "      <td>1</td>\n",
       "    </tr>\n",
       "    <tr>\n",
       "      <th>4</th>\n",
       "      <td>0.626374</td>\n",
       "      <td>0.023256</td>\n",
       "      <td>0.282258</td>\n",
       "      <td>0.389764</td>\n",
       "      <td>1</td>\n",
       "    </tr>\n",
       "    <tr>\n",
       "      <th>...</th>\n",
       "      <td>...</td>\n",
       "      <td>...</td>\n",
       "      <td>...</td>\n",
       "      <td>...</td>\n",
       "      <td>...</td>\n",
       "    </tr>\n",
       "    <tr>\n",
       "      <th>1456</th>\n",
       "      <td>0.274725</td>\n",
       "      <td>0.153846</td>\n",
       "      <td>0.161290</td>\n",
       "      <td>0.346457</td>\n",
       "      <td>1</td>\n",
       "    </tr>\n",
       "    <tr>\n",
       "      <th>1457</th>\n",
       "      <td>0.098901</td>\n",
       "      <td>0.026834</td>\n",
       "      <td>0.177419</td>\n",
       "      <td>0.346457</td>\n",
       "      <td>1</td>\n",
       "    </tr>\n",
       "    <tr>\n",
       "      <th>1458</th>\n",
       "      <td>0.241758</td>\n",
       "      <td>0.000000</td>\n",
       "      <td>0.236559</td>\n",
       "      <td>0.303150</td>\n",
       "      <td>4</td>\n",
       "    </tr>\n",
       "    <tr>\n",
       "      <th>1459</th>\n",
       "      <td>0.329670</td>\n",
       "      <td>0.000000</td>\n",
       "      <td>0.193548</td>\n",
       "      <td>0.240157</td>\n",
       "      <td>2</td>\n",
       "    </tr>\n",
       "    <tr>\n",
       "      <th>1460</th>\n",
       "      <td>0.340659</td>\n",
       "      <td>0.000000</td>\n",
       "      <td>0.193548</td>\n",
       "      <td>0.196850</td>\n",
       "      <td>2</td>\n",
       "    </tr>\n",
       "  </tbody>\n",
       "</table>\n",
       "<p>1461 rows × 5 columns</p>\n",
       "</div>"
      ],
      "text/plain": [
       "          wind  precipitation  temp_max  temp_min  weather\n",
       "0     0.472527       0.000000  0.387097  0.476378        0\n",
       "1     0.450549       0.194991  0.327957  0.389764        1\n",
       "2     0.208791       0.014311  0.357527  0.562992        1\n",
       "3     0.472527       0.363148  0.370968  0.500000        1\n",
       "4     0.626374       0.023256  0.282258  0.389764        1\n",
       "...        ...            ...       ...       ...      ...\n",
       "1456  0.274725       0.153846  0.161290  0.346457        1\n",
       "1457  0.098901       0.026834  0.177419  0.346457        1\n",
       "1458  0.241758       0.000000  0.236559  0.303150        4\n",
       "1459  0.329670       0.000000  0.193548  0.240157        2\n",
       "1460  0.340659       0.000000  0.193548  0.196850        2\n",
       "\n",
       "[1461 rows x 5 columns]"
      ]
     },
     "execution_count": 10,
     "metadata": {},
     "output_type": "execute_result"
    }
   ],
   "source": [
    "concat = pd.concat([df1,df],axis=1)\n",
    "concat"
   ]
  },
  {
   "cell_type": "code",
   "execution_count": 11,
   "id": "bec22803-e37e-4fb2-9f4b-cf5244075177",
   "metadata": {},
   "outputs": [],
   "source": [
    "concat.to_csv('normalize.csv',index=False)"
   ]
  },
  {
   "cell_type": "code",
   "execution_count": null,
   "id": "1370d82f-32d6-4ab6-875a-f22f50e4eff6",
   "metadata": {},
   "outputs": [],
   "source": []
  }
 ],
 "metadata": {
  "kernelspec": {
   "display_name": "Python 3 (ipykernel)",
   "language": "python",
   "name": "python3"
  },
  "language_info": {
   "codemirror_mode": {
    "name": "ipython",
    "version": 3
   },
   "file_extension": ".py",
   "mimetype": "text/x-python",
   "name": "python",
   "nbconvert_exporter": "python",
   "pygments_lexer": "ipython3",
   "version": "3.12.5"
  }
 },
 "nbformat": 4,
 "nbformat_minor": 5
}
