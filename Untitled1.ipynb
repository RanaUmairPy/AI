{
 "cells": [
  {
   "cell_type": "code",
   "execution_count": 6,
   "id": "81464252-682f-47e9-bb33-3b8f731c4235",
   "metadata": {},
   "outputs": [],
   "source": [
    "import pandas as pd\n",
    "from nltk.corpus import stopwords\n",
    "import nltk"
   ]
  },
  {
   "cell_type": "code",
   "execution_count": 7,
   "id": "6e3df951-56a7-40c7-98a7-b68ce7fe93d7",
   "metadata": {},
   "outputs": [
    {
     "name": "stderr",
     "output_type": "stream",
     "text": [
      "[nltk_data] Downloading package stopwords to\n",
      "[nltk_data]     C:\\Users\\Umair\\AppData\\Roaming\\nltk_data...\n",
      "[nltk_data]   Package stopwords is already up-to-date!\n"
     ]
    }
   ],
   "source": [
    "df = pd.read_csv('twitter_validation.csv')\n",
    "nltk.download('stopwords')\n",
    "stop_words = set(stopwords.words('english'))\n"
   ]
  },
  {
   "cell_type": "code",
   "execution_count": 8,
   "id": "722eb6d6-0667-41b0-a0fb-0f98cdcc6149",
   "metadata": {},
   "outputs": [],
   "source": [
    "df.columns=['index','Company', 'Type', 'Tweet']\n"
   ]
  },
  {
   "cell_type": "code",
   "execution_count": 26,
   "id": "ee99774c-728c-446c-9b2a-f1f1e30ac3f0",
   "metadata": {},
   "outputs": [],
   "source": [
    "x = df['Tweet']\n",
    "\n",
    "x3 =x    "
   ]
  },
  {
   "cell_type": "code",
   "execution_count": 10,
   "id": "aede62fe-2c9a-4a0a-bd08-e7024f64d1ea",
   "metadata": {},
   "outputs": [],
   "source": [
    "df['Processed_Tweet'] = df['Tweet'].apply(lambda x: ' '.join([word for word in x.split() if word.lower() not in stop_words])) "
   ]
  },
  {
   "cell_type": "code",
   "execution_count": 11,
   "id": "7a752dde-a4f9-4a25-9d44-5ff30efe219c",
   "metadata": {},
   "outputs": [],
   "source": [
    "\n",
    "a = []\n",
    "for i in range(len(df['Tweet'])): \n",
    "    processed_words = [word for word in x.iloc[i].split() if word.lower() not in stop_words]\n",
    "    processed_tweet = ' '.join(processed_words) \n",
    "    a.append(processed_tweet)\n",
    "df['Processed_Tweet'] = a\n"
   ]
  },
  {
   "cell_type": "code",
   "execution_count": 32,
   "id": "91afa742-4b1a-4461-8a09-c1c94034e9e6",
   "metadata": {},
   "outputs": [
    {
     "name": "stdout",
     "output_type": "stream",
     "text": [
      "0      BBC News - Amazon boss Jeff Bezos rejects clai...\n",
      "1      @Microsoft pay WORD functions poorly @SamsungU...\n",
      "2      CSGO matchmaking full closet hacking, truly aw...\n",
      "3      President slapping Americans face really commi...\n",
      "4      Hi @EAHelp I’ve Madeleine McCann cellar past 1...\n",
      "                             ...                        \n",
      "994    ⭐️ Toronto arts culture capital Canada, it’s w...\n",
      "995    ACTUALLY GOOD MOVE TOT BRING VIEWERS. one peop...\n",
      "996    Today sucked it’s time drink wine n play borde...\n",
      "997         Bought fraction Microsoft today. Small wins.\n",
      "998    Johnson & Johnson stop selling talc baby powde...\n",
      "Name: remove_stopword, Length: 999, dtype: object\n",
      "None\n"
     ]
    }
   ],
   "source": [
    "def RemoveStop(x3):\n",
    "     a = []\n",
    "     for i in range(len(x3)):\n",
    "            tweet = x3.iloc[i]\n",
    "            words = tweet.split()\n",
    "            clean_join = ''\n",
    "            for word in words:\n",
    "                if word.lower() not in stop_words:\n",
    "                    clean_join += word + ' '\n",
    "            a.append(clean_join.strip())\n",
    "     df['remove_stopword'] = a\n",
    "     print(df['remove_stopword'])\n",
    "print(RemoveStop(x3))\n"
   ]
  },
  {
   "cell_type": "code",
   "execution_count": 33,
   "id": "858cccd6-8862-4546-bf36-e2f1c9c645ab",
   "metadata": {},
   "outputs": [],
   "source": [
    "x = df['remove_stopword']"
   ]
  },
  {
   "cell_type": "code",
   "execution_count": 34,
   "id": "2892c579-628e-4a88-9152-347a964814c4",
   "metadata": {},
   "outputs": [
    {
     "name": "stdout",
     "output_type": "stream",
     "text": [
      "0      BBC News  Amazon boss Jeff Bezos rejects claim...\n",
      "1      Microsoft pay WORD functions poorly SamsungUS ...\n",
      "2      CSGO matchmaking full closet hacking truly awf...\n",
      "3      President slapping Americans face really commi...\n",
      "4      Hi EAHelp I’ve Madeleine McCann cellar past 13...\n",
      "                             ...                        \n",
      "994    ⭐️ Toronto arts culture capital Canada it’s wo...\n",
      "995    ACTUALLY GOOD MOVE TOT BRING VIEWERS one peopl...\n",
      "996    Today sucked it’s time drink wine n play borde...\n",
      "997           Bought fraction Microsoft today Small wins\n",
      "998    Johnson  Johnson stop selling talc baby powder...\n",
      "Name: finalTweet, Length: 999, dtype: object\n",
      "None\n"
     ]
    }
   ],
   "source": [
    "def RemovePun(x):\n",
    "       punctuations = ['!', '\"', '#', '$', '%', '&', \"'\", '(', ')', '*', '+', ',', '-', '.', '/', ':', ';', '<', '=', '>', '?', '@', '[', '\\\\', ']', '^', '_', '`', '{', '|', '}', '~']\n",
    "       processed_tweets = []\n",
    "       for i in range(len(x)):\n",
    "            tweet = x.iloc[i]\n",
    "            clean = ''\n",
    "            for word in tweet:\n",
    "               if word not in punctuations:\n",
    "                   clean +=word\n",
    "            processed_tweets.append(clean)\n",
    "       df['finalTweet'] = processed_tweets\n",
    "       print(df['finalTweet'])\n",
    "print(RemovePun(x))"
   ]
  },
  {
   "cell_type": "code",
   "execution_count": null,
   "id": "55f9594f-948c-4234-8862-d31b235bb238",
   "metadata": {},
   "outputs": [],
   "source": []
  },
  {
   "cell_type": "code",
   "execution_count": 39,
   "id": "46ae4ca8-4112-4966-bcb2-1a7253c772ec",
   "metadata": {},
   "outputs": [
    {
     "data": {
      "text/plain": [
       "0      BBC News - Amazon boss Jeff Bezos rejects clai...\n",
       "1      @Microsoft pay WORD functions poorly @SamsungU...\n",
       "2      CSGO matchmaking full closet hacking, truly aw...\n",
       "3      President slapping Americans face really commi...\n",
       "4      Hi @EAHelp I’ve Madeleine McCann cellar past 1...\n",
       "                             ...                        \n",
       "994    ⭐️ Toronto arts culture capital Canada, it’s w...\n",
       "995    ACTUALLY GOOD MOVE TOT BRING VIEWERS. one peop...\n",
       "996    Today sucked it’s time drink wine n play borde...\n",
       "997         Bought fraction Microsoft today. Small wins.\n",
       "998    Johnson & Johnson stop selling talc baby powde...\n",
       "Name: remove_stopwords, Length: 999, dtype: object"
      ]
     },
     "execution_count": 39,
     "metadata": {},
     "output_type": "execute_result"
    }
   ],
   "source": [
    "a = []\n",
    "for i in range(len(df['Tweet'])):\n",
    "        tweet = x.iloc[i]\n",
    "        words = tweet.split()\n",
    "        clean_join = ''\n",
    "        for word in words:\n",
    "            if word.lower() not in stop_words:\n",
    "                clean_join += word + ' '\n",
    "        a.append(clean_join.strip())\n",
    "df['remove_stopwords'] = a\n",
    "x1 = df['remove_stopwords']\n",
    "x1"
   ]
  },
  {
   "cell_type": "code",
   "execution_count": 44,
   "id": "055b29b5-73cb-4a82-8bff-45b25536c816",
   "metadata": {},
   "outputs": [],
   "source": [
    "punctuations = ['!', '\"', '#', '$', '%', '&', \"'\", '(', ')', '*', '+', ',', '-', '.', '/', ':', ';', '<', '=', '>', '?', '@', '[', '\\\\', ']', '^', '_', '`', '{', '|', '}', '~']\n",
    "a = []\n",
    "for i in range(len(df['remove_stopwords'])):\n",
    "    tweet = x1.iloc[i]\n",
    "    clean_join = ''\n",
    "    for word in tweet:\n",
    "        if word not in punctuations:\n",
    "            clean_join +=word\n",
    "    a.append(clean_join)\n",
    "df['f1']= a\n"
   ]
  },
  {
   "cell_type": "code",
   "execution_count": 43,
   "id": "f1a7da92-ae42-4fd5-b410-7f6bafaede8e",
   "metadata": {},
   "outputs": [
    {
     "data": {
      "text/plain": [
       "0      BBC News  Amazon boss Jeff Bezos rejects claim...\n",
       "1      Microsoft pay WORD functions poorly SamsungUS ...\n",
       "2      CSGO matchmaking full closet hacking truly awf...\n",
       "3      President slapping Americans face really commi...\n",
       "4      Hi EAHelp I’ve Madeleine McCann cellar past 13...\n",
       "                             ...                        \n",
       "994    ⭐️ Toronto arts culture capital Canada it’s wo...\n",
       "995    ACTUALLY GOOD MOVE TOT BRING VIEWERS one peopl...\n",
       "996    Today sucked it’s time drink wine n play borde...\n",
       "997           Bought fraction Microsoft today Small wins\n",
       "998    Johnson  Johnson stop selling talc baby powder...\n",
       "Name: f1, Length: 999, dtype: object"
      ]
     },
     "execution_count": 43,
     "metadata": {},
     "output_type": "execute_result"
    }
   ],
   "source": [
    "df['f1']"
   ]
  },
  {
   "cell_type": "code",
   "execution_count": null,
   "id": "eb325539-bc2f-4107-81b3-bd174806df85",
   "metadata": {},
   "outputs": [],
   "source": []
  }
 ],
 "metadata": {
  "kernelspec": {
   "display_name": "Python 3 (ipykernel)",
   "language": "python",
   "name": "python3"
  },
  "language_info": {
   "codemirror_mode": {
    "name": "ipython",
    "version": 3
   },
   "file_extension": ".py",
   "mimetype": "text/x-python",
   "name": "python",
   "nbconvert_exporter": "python",
   "pygments_lexer": "ipython3",
   "version": "3.12.5"
  }
 },
 "nbformat": 4,
 "nbformat_minor": 5
}
